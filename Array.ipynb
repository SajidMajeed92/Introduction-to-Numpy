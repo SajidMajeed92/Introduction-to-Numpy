{
  "nbformat": 4,
  "nbformat_minor": 0,
  "metadata": {
    "colab": {
      "provenance": [],
      "authorship_tag": "ABX9TyOmcD3XQs5PLNtXb1kT9SEG",
      "include_colab_link": true
    },
    "kernelspec": {
      "name": "python3",
      "display_name": "Python 3"
    },
    "language_info": {
      "name": "python"
    }
  },
  "cells": [
    {
      "cell_type": "markdown",
      "metadata": {
        "id": "view-in-github",
        "colab_type": "text"
      },
      "source": [
        "<a href=\"https://colab.research.google.com/github/SajidMajeed92/Introduction-to-Numpy/blob/main/Array.ipynb\" target=\"_parent\"><img src=\"https://colab.research.google.com/assets/colab-badge.svg\" alt=\"Open In Colab\"/></a>"
      ]
    },
    {
      "cell_type": "markdown",
      "source": [
        "**Arrays**"
      ],
      "metadata": {
        "id": "JAN7Mu4CBCq2"
      }
    },
    {
      "cell_type": "code",
      "execution_count": 2,
      "metadata": {
        "id": "69amf6KJBCL1"
      },
      "outputs": [],
      "source": [
        "#Similar to a list, an array is also a data structure which can hold more than one value at a time.\n",
        "#However, an array can only hold a collection of ordered elements of the same data type.\n",
        "#Here is an intuitive example of an array: Imagine you have a bunch of toy bikes. Each toy  is exactly the same, but they are all different colors.\n",
        "#You can line them up on a shelf to keep them organized. \n",
        "#The shelf would be like an array, and each toy bike would be like an element in the array. Just like how you can identify each toy bike by \n",
        "#its position on the shelf,you can identify each element in an array by its position in the array.\n",
        "\n",
        "#For example, you might have a red toy  at the first position, a blue toy Bike at the second position, and a green toy Bike at the third position. \n",
        "#In an array, these would be called the first element, second element, and third element, respectively."
      ]
    },
    {
      "cell_type": "markdown",
      "source": [
        "**Examples of Arrays & Lists**\n",
        "* Arrays - Examples\n",
        "\n",
        "* [red, blue, green] is an array of car colors in the above toy car example.<br>\n",
        "[1, 2, 3, 4, 5] is an array of integers.\n",
        "[ ‘a’, ‘b’, ‘c’, ‘d’, ‘e’ ] is an array of strings.\n",
        "[[ 1 , 2 , 3 , 4],\n",
        "[ 5, 6, 7, 8 ]] is a 2 dimensional array.\n",
        "\n",
        "* Lists - Examples\n",
        "\n",
        "* [ 1, 2, 3, ‘a’, 5 ] is a list containing both integers and a string.\n",
        "* [ 1, 2, 3, 4, ‘b’, [ 1, 2, 3 ] ] is a list containing integers, a string, and another list."
      ],
      "metadata": {
        "id": "D8_xZHceK1DI"
      }
    },
    {
      "cell_type": "code",
      "source": [
        "# Why Arrays?\n",
        "#A combination of Arrays, together with Python could save you a lot of time. Arrays help reduce the overall size of your code.\n",
        "#List vs Array\n",
        "#A list can store different data types such as integers, strings, etc., whereas an array stores only single data type values, i.e., \n",
        "#you can only have an array of integers, an array of strings, etc."
      ],
      "metadata": {
        "id": "auizxdN0Mj-8"
      },
      "execution_count": 3,
      "outputs": []
    }
  ]
}